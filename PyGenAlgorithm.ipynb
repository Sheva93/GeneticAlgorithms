{
 "cells": [
  {
   "cell_type": "code",
   "execution_count": 20,
   "metadata": {},
   "outputs": [],
   "source": [
    "geneSet=\"абвгдеёжзийклмнопрстуфхцчшщъыьэюяАБВГДЕЁЖЗИЙКЛМНОПРСТУФХЦЧШЩЪЫЬЭЮЯabcdefghijklmnopqrstuvwxyzABCDEFGHIJKLMNOPQRSTUVWXYZ!.: \"\n",
    "target=\"Russian mentality: Пусть восторжествует мир на Земле!\""
   ]
  },
  {
   "cell_type": "code",
   "execution_count": 40,
   "metadata": {},
   "outputs": [],
   "source": [
    "import random\n",
    "import datetime\n",
    "\n",
    "def genParent(length):\n",
    "    genes=[]\n",
    "    \n",
    "    while len(genes)<length:\n",
    "        sampleSize=min(length-len(genes),len(geneSet))\n",
    "        genes.extend(random.sample(geneSet,sampleSize))\n",
    "        \n",
    "    return ''.join(genes)"
   ]
  },
  {
   "cell_type": "code",
   "execution_count": 41,
   "metadata": {},
   "outputs": [],
   "source": [
    "def getFitness(guess):\n",
    "    return sum(1 for expected,actual in zip(target,guess) if expected==actual)"
   ]
  },
  {
   "cell_type": "code",
   "execution_count": 42,
   "metadata": {},
   "outputs": [],
   "source": [
    "def mutate(parent):\n",
    "    index=random.randrange(0,len(parent))\n",
    "    childGenes=list(parent)\n",
    "    newGene,alternate=random.sample(geneSet,2)\n",
    "    childGenes[index]=alternate if newGene==childGenes[index] else newGene\n",
    "    return ''.join(childGenes)"
   ]
  },
  {
   "cell_type": "code",
   "execution_count": 43,
   "metadata": {},
   "outputs": [],
   "source": [
    "def display(guess):\n",
    "    timeDiff=datetime.datetime.now()-startTime\n",
    "    fitness=getFitness(guess)\n",
    "    print(\"{}\\t{}\\t{}\".format(guess,fitness,timeDiff))"
   ]
  },
  {
   "cell_type": "code",
   "execution_count": 44,
   "metadata": {},
   "outputs": [
    {
     "name": "stdout",
     "output_type": "stream",
     "text": [
      "Russian mentality: Пусть востаржествует мир на Земле!\t82\t0:00:01.489474\n",
      "Succesfully!\n"
     ]
    }
   ],
   "source": [
    "random.seed()\n",
    "startTime=datetime.datetime.now()\n",
    "bestParent=genParent(len(target))\n",
    "bestFitness=getFitness(bestParent)\n",
    "#display(bestParent)\n",
    "\n",
    "while True:\n",
    "    child=mutate(bestParent)\n",
    "    childFitness=getFitness(child)\n",
    "    \n",
    "    if bestFitness>=childFitness:\n",
    "        continue\n",
    "    #display(child)\n",
    "    if childFitness>=len(bestParent):\n",
    "        display(child)\n",
    "        print \"Succesfully!\"\n",
    "        break\n",
    "    bestFitness=childFitness\n",
    "    bestParent=child"
   ]
  },
  {
   "cell_type": "code",
   "execution_count": null,
   "metadata": {},
   "outputs": [],
   "source": []
  }
 ],
 "metadata": {
  "kernelspec": {
   "display_name": "Python 2",
   "language": "python",
   "name": "python2"
  },
  "language_info": {
   "codemirror_mode": {
    "name": "ipython",
    "version": 2
   },
   "file_extension": ".py",
   "mimetype": "text/x-python",
   "name": "python",
   "nbconvert_exporter": "python",
   "pygments_lexer": "ipython2",
   "version": "2.7.13"
  }
 },
 "nbformat": 4,
 "nbformat_minor": 2
}
